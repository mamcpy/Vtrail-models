{
  "cells": [
    {
      "cell_type": "markdown",
      "source": [
        "# VMware Barcelona Hackathon 2023"
      ],
      "metadata": {
        "id": "qcnFK39cwcQL"
      }
    },
    {
      "cell_type": "markdown",
      "source": [
        "# Sentiment analysis model"
      ],
      "metadata": {
        "id": "_i3OVnBixO2i"
      }
    },
    {
      "cell_type": "markdown",
      "metadata": {
        "id": "1KC3NHAXWXmq"
      },
      "source": [
        "## Setup"
      ]
    },
    {
      "cell_type": "code",
      "execution_count": null,
      "metadata": {
        "id": "9jKZNDBVd4tZ"
      },
      "outputs": [],
      "source": [
        "!pip install keras-tuner --upgrade"
      ]
    },
    {
      "cell_type": "code",
      "execution_count": null,
      "metadata": {
        "colab": {
          "base_uri": "https://localhost:8080/"
        },
        "id": "IJB0GImyGlmu",
        "outputId": "5e40d9a9-a8a8-4eab-80ba-384225a137c1"
      },
      "outputs": [
        {
          "output_type": "stream",
          "name": "stdout",
          "text": [
            "Mounted at /content/drive\n"
          ]
        }
      ],
      "source": [
        "from google.colab import drive\n",
        "drive.mount(\"/content/drive\")"
      ]
    },
    {
      "cell_type": "code",
      "execution_count": null,
      "metadata": {
        "colab": {
          "base_uri": "https://localhost:8080/"
        },
        "id": "CBdR_f7CV6t0",
        "outputId": "b4abca91-b655-414d-aa42-6d8579b91f4b"
      },
      "outputs": [
        {
          "output_type": "stream",
          "name": "stdout",
          "text": [
            "Using TensorFlow backend\n"
          ]
        }
      ],
      "source": [
        "import numpy as np\n",
        "import pandas as pd\n",
        "import seaborn as sns\n",
        "from matplotlib import pyplot as plt\n",
        "from tensorflow.keras import backend as K\n",
        "from tensorflow import keras\n",
        "from tensorflow.keras import layers\n",
        "import pickle\n",
        "import keras_tuner\n",
        "from sklearn.model_selection import train_test_split\n",
        "from keras.preprocessing.text import Tokenizer\n",
        "from keras.preprocessing.sequence import pad_sequences\n",
        "from keras.models import Sequential\n",
        "from keras.layers import Dense, Embedding, LSTM, SpatialDropout1D\n",
        "from keras.callbacks import ModelCheckpoint\n",
        "from keras.callbacks import EarlyStopping\n",
        "from keras.saving import load_model\n",
        "from sklearn.metrics import confusion_matrix"
      ]
    },
    {
      "cell_type": "markdown",
      "metadata": {
        "id": "-InnSsLxYxY5"
      },
      "source": [
        "## Load data"
      ]
    },
    {
      "cell_type": "code",
      "execution_count": null,
      "metadata": {
        "id": "MYnbW2GIYzMC"
      },
      "outputs": [],
      "source": [
        "df_main_r = pd.read_csv(\"/content/drive/MyDrive/Colab Notebooks/sentiment_analysis/Training_data/Reddit_Data.csv\")\n",
        "df_main_t = pd.read_csv(\"/content/drive/MyDrive/Colab Notebooks/sentiment_analysis/Training_data/Twitter_Data.csv\")\n",
        "\n",
        "df_main_t = df_main_t.rename(columns={\"clean_text\": \"text\"})\n",
        "\n",
        "df_main_r = df_main_r.rename(columns={\"clean_comment\": \"text\"})\n",
        "\n",
        "\n",
        "df_main = pd.concat([df_main_t, df_main_r])\n",
        "df_main = df_main.sample(frac=1, random_state=42)\n",
        "\n",
        "#df_main[\"text\"] = df_main[\"text\"].astype(str)"
      ]
    },
    {
      "cell_type": "code",
      "execution_count": null,
      "metadata": {
        "colab": {
          "base_uri": "https://localhost:8080/"
        },
        "id": "gt3wFk_kGswC",
        "outputId": "b4c859e9-9a04-40b0-a951-c4f87fa3f240"
      },
      "outputs": [
        {
          "output_type": "stream",
          "name": "stdout",
          "text": [
            "<class 'pandas.core.frame.DataFrame'>\n",
            "Int64Index: 200229 entries, 31537 to 121958\n",
            "Data columns (total 2 columns):\n",
            " #   Column    Non-Null Count   Dtype  \n",
            "---  ------    --------------   -----  \n",
            " 0   text      200125 non-null  object \n",
            " 1   category  200222 non-null  float64\n",
            "dtypes: float64(1), object(1)\n",
            "memory usage: 4.6+ MB\n"
          ]
        }
      ],
      "source": [
        "df_main.info()"
      ]
    },
    {
      "cell_type": "code",
      "execution_count": null,
      "metadata": {
        "colab": {
          "base_uri": "https://localhost:8080/"
        },
        "id": "mpntYF2GZXk8",
        "outputId": "f23faa05-8875-4bb0-cece-8cd7d22fe97f"
      },
      "outputs": [
        {
          "output_type": "execute_result",
          "data": {
            "text/plain": [
              "array([ 1.,  0., -1., nan])"
            ]
          },
          "metadata": {},
          "execution_count": 7
        }
      ],
      "source": [
        "df_main[\"category\"].unique()"
      ]
    },
    {
      "cell_type": "code",
      "execution_count": null,
      "metadata": {
        "id": "r5fH0FZJG_vH"
      },
      "outputs": [],
      "source": [
        "# Drop rows with null category (only 7)\n",
        "df_main.dropna(inplace = True)"
      ]
    },
    {
      "cell_type": "markdown",
      "metadata": {
        "id": "UEWAUUC-efZT"
      },
      "source": [
        "## Token encoding text"
      ]
    },
    {
      "cell_type": "markdown",
      "metadata": {
        "id": "m6Fy96AVRck1"
      },
      "source": [
        "For the parameter max_len (max number of words kept per text) we check the words per text distribution"
      ]
    },
    {
      "cell_type": "code",
      "execution_count": null,
      "metadata": {
        "colab": {
          "base_uri": "https://localhost:8080/"
        },
        "id": "vgC9GA38HTRx",
        "outputId": "fd1a0cd5-bbe6-4319-818a-b03b896b4a63"
      },
      "outputs": [
        {
          "output_type": "stream",
          "name": "stdout",
          "text": [
            "count    200222.000000\n",
            "mean         21.800596\n",
            "std          26.529232\n",
            "min           0.000000\n",
            "25%          10.000000\n",
            "50%          18.000000\n",
            "75%          29.000000\n",
            "max        1307.000000\n",
            "Name: text, dtype: float64\n",
            "151\n"
          ]
        }
      ],
      "source": [
        "words_per_text = df_main[\"text\"].str.split().str.len()\n",
        "print(words_per_text.describe())\n",
        "max_text_len = int(words_per_text.quantile(0.995))\n",
        "print(max_text_len)\n",
        "# With 151 words per text we keep all words in 99.5% of texts"
      ]
    },
    {
      "cell_type": "code",
      "execution_count": null,
      "metadata": {
        "colab": {
          "base_uri": "https://localhost:8080/"
        },
        "id": "xiPvN_Q-Wc14",
        "outputId": "6a434d60-2444-4950-e7f2-55f74e0f45cd"
      },
      "outputs": [
        {
          "output_type": "execute_result",
          "data": {
            "text/plain": [
              "4364959"
            ]
          },
          "metadata": {},
          "execution_count": 10
        }
      ],
      "source": [
        "#Total of words\n",
        "words_per_text.sum()"
      ]
    },
    {
      "cell_type": "code",
      "source": [
        "df_main[\"text\"]"
      ],
      "metadata": {
        "colab": {
          "base_uri": "https://localhost:8080/"
        },
        "id": "TBp5n4cQXQYN",
        "outputId": "ac397f42-3a32-4e7d-af58-bea010b2284f"
      },
      "execution_count": null,
      "outputs": [
        {
          "output_type": "execute_result",
          "data": {
            "text/plain": [
              "31537     another years bjp modi and hindu nationalism w...\n",
              "147887    bjp are giving priority development narendra m...\n",
              "87523     its known fact that missionaries are funding f...\n",
              "45173     india has attained antisatellite capability be...\n",
              "99538     dont ask modi apple pass kiya hai ask that duf...\n",
              "                                ...                        \n",
              "119879    how tragic that you are delighted this serious...\n",
              "103694     wuld like read modi interview swarajya magazine \n",
              "131932    hurt telugu pride our leader has been humiliat...\n",
              "146867    fan fully support conversion cause but modi go...\n",
              "121958    fifth generation family making same promise er...\n",
              "Name: text, Length: 200222, dtype: object"
            ]
          },
          "metadata": {},
          "execution_count": 13
        }
      ]
    },
    {
      "cell_type": "markdown",
      "metadata": {
        "id": "AzbHIOEfR3Jb"
      },
      "source": [
        "To study the number of unique words we will keep for our model"
      ]
    },
    {
      "cell_type": "code",
      "execution_count": null,
      "metadata": {
        "colab": {
          "base_uri": "https://localhost:8080/"
        },
        "id": "ec4wfwO5R94R",
        "outputId": "489ac137-c485-43e5-a58b-67fef0e3e5e5"
      },
      "outputs": [
        {
          "output_type": "stream",
          "name": "stdout",
          "text": [
            "139559\n"
          ]
        }
      ],
      "source": [
        "# Initialise tokenizer\n",
        "tokenizer = Tokenizer(split = \" \")\n",
        "\n",
        "# Fit tokeniser on the text data\n",
        "tokenizer.fit_on_texts(df_main[\"text\"].values)\n",
        "\n",
        "# Retrieve word counts\n",
        "word_counts = tokenizer.word_counts\n",
        "\n",
        "# Sort word counts by frequency\n",
        "word_frequency = sorted(word_counts.items(), key=lambda x: x[1], reverse=True)\n",
        "\n",
        "print(len(word_frequency))\n",
        "max_words = int(len([(i,j) for (i,j) in word_frequency if j >= 50]))\n",
        "\n",
        "# So we choose to keep the most common 6479 words, removing the usage of words that appear\n",
        "# less than 50 times out of a total 4364959 words (139559 different words)"
      ]
    },
    {
      "cell_type": "code",
      "execution_count": null,
      "metadata": {
        "colab": {
          "base_uri": "https://localhost:8080/"
        },
        "id": "KkOn8sAdbLGt",
        "outputId": "d6848b3e-6ad1-4b8d-8db6-42725e7ec5ae"
      },
      "outputs": [
        {
          "output_type": "stream",
          "name": "stdout",
          "text": [
            "6479\n",
            "151\n"
          ]
        }
      ],
      "source": [
        "print(max_words)\n",
        "print(max_text_len)"
      ]
    },
    {
      "cell_type": "code",
      "execution_count": null,
      "metadata": {
        "id": "SFRR7xUheiI9"
      },
      "outputs": [],
      "source": [
        "def convert_text_to_seq(data):\n",
        "  tokenizer = Tokenizer(num_words = max_words, split = \" \")\n",
        "  tokenizer.fit_on_texts(data[\"text\"].values) # Transforms text into sequences of integers (the integers are the num_words by ascending order of frequency)\n",
        "  sequences = tokenizer.texts_to_sequences(data[\"text\"].values)\n",
        "\n",
        "  with open(\"/content/drive/MyDrive/Colab Notebooks/NLP/tokenizer_new.pickle\", \"wb\") as handle:\n",
        "    pickle.dump(tokenizer, handle, protocol=pickle.HIGHEST_PROTOCOL)\n",
        "\n",
        "  return pad_sequences(sequences, maxlen = max_text_len)\n",
        "\n",
        "X = convert_text_to_seq(df_main)"
      ]
    },
    {
      "cell_type": "code",
      "execution_count": null,
      "metadata": {
        "colab": {
          "base_uri": "https://localhost:8080/"
        },
        "id": "p2FszkcEdgdO",
        "outputId": "acad245b-b5c0-4441-9132-d98154e33fa1"
      },
      "outputs": [
        {
          "output_type": "execute_result",
          "data": {
            "text/plain": [
              "(200222, 151)"
            ]
          },
          "metadata": {},
          "execution_count": 14
        }
      ],
      "source": [
        "X.shape # So 200222 elements having 151 integers each one"
      ]
    },
    {
      "cell_type": "markdown",
      "metadata": {
        "id": "XkVHwM-BeikI"
      },
      "source": [
        "## Split the data in train and test"
      ]
    },
    {
      "cell_type": "code",
      "execution_count": null,
      "metadata": {
        "id": "Mc0LOYhkgLOD"
      },
      "outputs": [],
      "source": [
        "df_main_prossed[\"category\"]"
      ]
    },
    {
      "cell_type": "code",
      "execution_count": null,
      "metadata": {
        "colab": {
          "base_uri": "https://localhost:8080/"
        },
        "id": "RMscdinSemIY",
        "outputId": "81b26f16-7ede-46b7-d358-d4013527ecdd"
      },
      "outputs": [
        {
          "output_type": "stream",
          "name": "stdout",
          "text": [
            "(170188, 151) (170188, 3)\n",
            "(30034, 151) (30034, 3)\n"
          ]
        }
      ],
      "source": [
        "y = pd.get_dummies(df_main[\"category\"]).values\n",
        "\n",
        "X_train, X_test, y_train, y_test = train_test_split(X , y, train_size = 0.8, random_state = 42)\n",
        "\n",
        "print(X_train.shape, y_train.shape)\n",
        "print(X_test.shape, y_test.shape)"
      ]
    },
    {
      "cell_type": "markdown",
      "metadata": {
        "id": "rULfjZFreoYL"
      },
      "source": [
        "## Define and train model"
      ]
    },
    {
      "cell_type": "markdown",
      "source": [
        "After triying different architectures we keep one that balances learning the patterns in the data but not so much that it overfits on the training set. That happends when we increase too much the complexity of the neural network."
      ],
      "metadata": {
        "id": "bFB5fn-Jk5E1"
      }
    },
    {
      "cell_type": "code",
      "execution_count": null,
      "metadata": {
        "id": "OyPHyVK0iZLv"
      },
      "outputs": [],
      "source": [
        "def get_model(lstm_dropout, l_dropout):\n",
        "  model = Sequential()\n",
        "  model.add(layers.Embedding(max_words, 32, input_length = max_text_len))\n",
        "  model.add(layers.Bidirectional(layers.LSTM(16,dropout=lstm_dropout)))\n",
        "  model.add(layers.Dense(12,activation=\"relu\"))\n",
        "  model.add(layers.Dropout(l_dropout))\n",
        "  model.add(layers.Dense(8,activation=\"relu\"))\n",
        "  model.add(layers.Dropout(l_dropout))\n",
        "  model.add(layers.Dense(3,activation=\"softmax\"))\n",
        "  model.compile(optimizer=\"Adam\",loss=\"categorical_crossentropy\", metrics=[\"accuracy\"])\n",
        "\n",
        "  return model"
      ]
    },
    {
      "cell_type": "code",
      "execution_count": null,
      "metadata": {
        "id": "ycmBWDGOihXz"
      },
      "outputs": [],
      "source": [
        "early_stopping = EarlyStopping(monitor=\"accuracy\", patience = 5, mode=\"max\", verbose=2)\n",
        "early_stopping_val = EarlyStopping(monitor=\"val_accuracy\", patience = 3, mode=\"max\", verbose=2)\n",
        "\n",
        "lstm_dropout = 0.2\n",
        "l_dropout = 0.2"
      ]
    },
    {
      "cell_type": "code",
      "execution_count": null,
      "metadata": {
        "id": "nh9Z4RDYuMmm"
      },
      "outputs": [],
      "source": [
        "model = get_model(lstm_dropout, l_dropout)\n",
        "model.summary()\n",
        "history = model.fit(X_train, y_train, validation_split = 0.25, callbacks = [early_stopping, early_stopping_val], epochs = 25, batch_size = 64)"
      ]
    },
    {
      "cell_type": "code",
      "execution_count": null,
      "metadata": {
        "id": "56iUEIXve5pu"
      },
      "outputs": [],
      "source": [
        "#model.save(\"/content/drive/MyDrive/Colab Notebooks/sentiment_analysis/final_sentiment_model\", save_format = \"tf\")"
      ]
    },
    {
      "cell_type": "code",
      "source": [
        "#model = load_model(\"/content/drive/MyDrive/Colab Notebooks/sentiment_analysis/final_sentiment_model\")"
      ],
      "metadata": {
        "id": "22Xsr9GAFf3S"
      },
      "execution_count": null,
      "outputs": []
    },
    {
      "cell_type": "code",
      "source": [
        "model.summary()"
      ],
      "metadata": {
        "colab": {
          "base_uri": "https://localhost:8080/"
        },
        "id": "unRlSrKjpBp4",
        "outputId": "84b5e06b-42a7-493a-a5ed-37f166396ca1"
      },
      "execution_count": null,
      "outputs": [
        {
          "output_type": "stream",
          "name": "stdout",
          "text": [
            "Model: \"sequential_1\"\n",
            "_________________________________________________________________\n",
            " Layer (type)                Output Shape              Param #   \n",
            "=================================================================\n",
            " embedding_1 (Embedding)     (None, 151, 32)           207328    \n",
            "                                                                 \n",
            " bidirectional_1 (Bidirecti  (None, 32)                6272      \n",
            " onal)                                                           \n",
            "                                                                 \n",
            " dense_3 (Dense)             (None, 12)                396       \n",
            "                                                                 \n",
            " dropout_2 (Dropout)         (None, 12)                0         \n",
            "                                                                 \n",
            " dense_4 (Dense)             (None, 8)                 104       \n",
            "                                                                 \n",
            " dropout_3 (Dropout)         (None, 8)                 0         \n",
            "                                                                 \n",
            " dense_5 (Dense)             (None, 3)                 27        \n",
            "                                                                 \n",
            "=================================================================\n",
            "Total params: 214127 (836.43 KB)\n",
            "Trainable params: 214127 (836.43 KB)\n",
            "Non-trainable params: 0 (0.00 Byte)\n",
            "_________________________________________________________________\n"
          ]
        }
      ]
    },
    {
      "cell_type": "code",
      "execution_count": null,
      "metadata": {
        "colab": {
          "base_uri": "https://localhost:8080/",
          "height": 489
        },
        "id": "j8pBQ26lwa_U",
        "outputId": "3a843520-5899-4520-a092-279376ea4601"
      },
      "outputs": [
        {
          "data": {
            "text/plain": [
              "Text(0.5, 1.0, 'Model training')"
            ]
          },
          "execution_count": 43,
          "metadata": {},
          "output_type": "execute_result"
        },
        {
          "data": {
            "image/png": "[encoded data removed]",
            "text/plain": [
              "<Figure size 640x480 with 1 Axes>"
            ]
          },
          "metadata": {},
          "output_type": "display_data"
        }
      ],
      "source": [
        "# Plot the training session\n",
        "plt.plot(history.history[\"accuracy\"], label = \"Train\")\n",
        "plt.plot(history.history[\"val_accuracy\"], label = \"Validation\")\n",
        "plt.xlabel(\"Epochs\")\n",
        "plt.ylabel(\"Accuracy\")\n",
        "plt.legend()\n",
        "plt.title(\"Model training\")"
      ]
    },
    {
      "cell_type": "markdown",
      "source": [
        "## Evaluation"
      ],
      "metadata": {
        "id": "7gPjNWYfwrIN"
      }
    },
    {
      "cell_type": "code",
      "source": [
        "loss, accuracy = model.evaluate(X_test, y_test, verbose = 2)"
      ],
      "metadata": {
        "colab": {
          "base_uri": "https://localhost:8080/"
        },
        "id": "ewruLYeYpeOf",
        "outputId": "c9b491ab-f419-4c98-802f-9a81de3a2a96"
      },
      "execution_count": null,
      "outputs": [
        {
          "output_type": "stream",
          "name": "stdout",
          "text": [
            "939/939 - 16s - loss: 0.2155 - accuracy: 0.9523 - 16s/epoch - 17ms/step\n"
          ]
        }
      ]
    },
    {
      "cell_type": "code",
      "source": [
        "y_pred = model.predict(X_test)"
      ],
      "metadata": {
        "colab": {
          "base_uri": "https://localhost:8080/"
        },
        "id": "DSpEpB3Cp-0o",
        "outputId": "ba4762d4-51ec-4882-b413-6cc5b6c69e2e"
      },
      "execution_count": null,
      "outputs": [
        {
          "output_type": "stream",
          "name": "stdout",
          "text": [
            "939/939 [==============================] - 22s 24ms/step\n"
          ]
        }
      ]
    },
    {
      "cell_type": "code",
      "source": [
        "y_pred"
      ],
      "metadata": {
        "colab": {
          "base_uri": "https://localhost:8080/"
        },
        "id": "bH8pv9GKreQd",
        "outputId": "878c8ce3-e4e4-40e3-86bb-c371141938fd"
      },
      "execution_count": null,
      "outputs": [
        {
          "output_type": "execute_result",
          "data": {
            "text/plain": [
              "array([[2.5710913e-03, 9.9257833e-01, 4.8506246e-03],\n",
              "       [2.1450557e-03, 9.9366778e-01, 4.1871415e-03],\n",
              "       [3.2713117e-06, 9.9997526e-01, 2.1490841e-05],\n",
              "       ...,\n",
              "       [6.0997624e-04, 1.3616667e-05, 9.9937648e-01],\n",
              "       [1.3548072e-08, 2.4644286e-12, 1.0000000e+00],\n",
              "       [1.9436966e-06, 3.2863909e-09, 9.9999809e-01]], dtype=float32)"
            ]
          },
          "metadata": {},
          "execution_count": 35
        }
      ]
    },
    {
      "cell_type": "code",
      "source": [
        "y_test"
      ],
      "metadata": {
        "colab": {
          "base_uri": "https://localhost:8080/"
        },
        "id": "0agu1LVTrhKj",
        "outputId": "0a6d4f99-0ae9-4159-b1a6-4e44fed83b0b"
      },
      "execution_count": null,
      "outputs": [
        {
          "output_type": "execute_result",
          "data": {
            "text/plain": [
              "array([[0, 1, 0],\n",
              "       [0, 1, 0],\n",
              "       [0, 1, 0],\n",
              "       ...,\n",
              "       [0, 0, 1],\n",
              "       [0, 0, 1],\n",
              "       [0, 0, 1]], dtype=uint8)"
            ]
          },
          "metadata": {},
          "execution_count": 31
        }
      ]
    },
    {
      "cell_type": "markdown",
      "source": [
        "To produce a confusion matrix we need to get y_pred to have rows with a 1 in the class with the biggest predicted probability and 0 in the rest. Then we put y_pred and y_test respectivelly in a 1D array where each position can be 0, 1 or 2 depending on the class with the highest probability.  "
      ],
      "metadata": {
        "id": "QcjJVY6Mqq2P"
      }
    },
    {
      "cell_type": "code",
      "source": [
        "y_pred_1d = np.argmax(y_pred, axis = 1)\n",
        "y_test_1d = np.argmax(y_test, axis = 1)"
      ],
      "metadata": {
        "id": "jyhWhrJUqk1S"
      },
      "execution_count": null,
      "outputs": []
    },
    {
      "cell_type": "code",
      "source": [
        "conf_matrix"
      ],
      "metadata": {
        "colab": {
          "base_uri": "https://localhost:8080/"
        },
        "id": "2-TDdvnUuA4P",
        "outputId": "dcdd0f86-a782-4ab6-b8a4-08747079bd37"
      },
      "execution_count": null,
      "outputs": [
        {
          "output_type": "execute_result",
          "data": {
            "text/plain": [
              "array([[ 6008,   180,   425],\n",
              "       [  105, 10074,   127],\n",
              "       [  416,   180, 12519]])"
            ]
          },
          "metadata": {},
          "execution_count": 58
        }
      ]
    },
    {
      "cell_type": "code",
      "source": [
        "conf_matrix = confusion_matrix(y_test_1d, y_pred_1d)\n",
        "conf_matrix_plot(conf_matrix, [\"-1\", \"0\" , \"1\"])"
      ],
      "metadata": {
        "colab": {
          "base_uri": "https://localhost:8080/",
          "height": 449
        },
        "id": "No6p0klWqPFW",
        "outputId": "dc083173-e188-49c4-e756-fc4708a81220"
      },
      "execution_count": null,
      "outputs": [
        {
          "output_type": "display_data",
          "data": {
            "text/plain": [
              "<Figure size 640x480 with 2 Axes>"
            ],
            "image/png": "[encoded data removed]"
          },
          "metadata": {}
        }
      ]
    },
    {
      "cell_type": "code",
      "source": [
        "def conf_matrix_plot(conf_matrix, tags, fmt='d'):\n",
        "    plt.figure()\n",
        "    sns.heatmap(conf_matrix, annot = True, fmt = fmt, cbar = True, xticklabels = tags, yticklabels = tags)\n",
        "    plt.yticks(rotation = 90)\n",
        "    plt.xlabel(\"Predicted values\")\n",
        "    plt.ylabel(\"True values\")\n",
        "    plt.show()"
      ],
      "metadata": {
        "id": "04b4QJT5qP1-"
      },
      "execution_count": null,
      "outputs": []
    },
    {
      "cell_type": "markdown",
      "source": [
        "We have obtained validation and test accuracy of around 95%. Looking at the confusion matrix we can see there is no particular category for which our model performs worse. This high quality sentiment analysis model will help contribute to the success of the demo.  "
      ],
      "metadata": {
        "id": "fw9QwV8RukSq"
      }
    }
  ],
  "metadata": {
    "colab": {
      "machine_shape": "hm",
      "provenance": [],
      "toc_visible": true
    },
    "kernelspec": {
      "display_name": "Python 3",
      "name": "python3"
    },
    "language_info": {
      "name": "python"
    }
  },
  "nbformat": 4,
  "nbformat_minor": 0
}